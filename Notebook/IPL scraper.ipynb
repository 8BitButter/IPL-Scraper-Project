{
 "cells": [
  {
   "cell_type": "markdown",
   "id": "281a58df-bb9a-4181-a5ea-64a19a093350",
   "metadata": {},
   "source": [
    "# IPL Scraper "
   ]
  },
  {
   "cell_type": "code",
   "execution_count": 72,
   "id": "54c5fd4c-7a66-4c47-8214-8dfc3d1733f8",
   "metadata": {},
   "outputs": [],
   "source": [
    "import requests\n",
    "from bs4 import BeautifulSoup\n",
    "import pandas as pd"
   ]
  },
  {
   "cell_type": "code",
   "execution_count": 91,
   "id": "92465389-1d31-4248-991f-d2b116b94ff1",
   "metadata": {},
   "outputs": [],
   "source": [
    "link = 'https://www.iplt20.com/auction/2022'\n",
    "res = requests.get(link)\n",
    "#print(res.text)"
   ]
  },
  {
   "cell_type": "code",
   "execution_count": 74,
   "id": "0f3fce4a",
   "metadata": {},
   "outputs": [],
   "source": [
    "soup = BeautifulSoup(res.text,\"lxml\")\n",
    "# print(soup)"
   ]
  },
  {
   "cell_type": "code",
   "execution_count": 75,
   "id": "900ab25b",
   "metadata": {},
   "outputs": [
    {
     "name": "stdout",
     "output_type": "stream",
     "text": [
      "[<th class=\"skip-filter\" style=\"width:25%;text-align: left;\">SR. NO.</th>, <th class=\"skip-filter\" style=\"width:25%;text-align: left;\">TEAM</th>, <th class=\"skip-filter\" style=\"width:25%;\">FUNDS REMAINING</th>, <th class=\"skip-filter\" style=\"width:25%;\">OVERSEAS PLAYERS </th>, <th class=\"skip-filter\" style=\"width:25%;\">TOTAL PLAYERS</th>]\n"
     ]
    }
   ],
   "source": [
    "table = soup.find(\"table\",class_ = 'ih-td-tab auction-tbl')\n",
    "#print(table)\n",
    "title = table.find_all('th')\n",
    "print(title)"
   ]
  },
  {
   "cell_type": "code",
   "execution_count": 76,
   "id": "27e76793",
   "metadata": {},
   "outputs": [],
   "source": [
    "table_header = []\n",
    "for i in title:\n",
    "    name = i.text\n",
    "    table_header.append(name)"
   ]
  },
  {
   "cell_type": "code",
   "execution_count": 77,
   "id": "cf155a85",
   "metadata": {},
   "outputs": [
    {
     "name": "stdout",
     "output_type": "stream",
     "text": [
      "['SR. NO.', 'TEAM', 'FUNDS REMAINING', 'OVERSEAS PLAYERS ', 'TOTAL PLAYERS']\n"
     ]
    }
   ],
   "source": [
    "print(table_header)"
   ]
  },
  {
   "cell_type": "code",
   "execution_count": 78,
   "id": "3eb2597e",
   "metadata": {},
   "outputs": [
    {
     "data": {
      "text/html": [
       "<div>\n",
       "<style scoped>\n",
       "    .dataframe tbody tr th:only-of-type {\n",
       "        vertical-align: middle;\n",
       "    }\n",
       "\n",
       "    .dataframe tbody tr th {\n",
       "        vertical-align: top;\n",
       "    }\n",
       "\n",
       "    .dataframe thead th {\n",
       "        text-align: right;\n",
       "    }\n",
       "</style>\n",
       "<table border=\"1\" class=\"dataframe\">\n",
       "  <thead>\n",
       "    <tr style=\"text-align: right;\">\n",
       "      <th></th>\n",
       "      <th>SR. NO.</th>\n",
       "      <th>TEAM</th>\n",
       "      <th>FUNDS REMAINING</th>\n",
       "      <th>OVERSEAS PLAYERS</th>\n",
       "      <th>TOTAL PLAYERS</th>\n",
       "    </tr>\n",
       "  </thead>\n",
       "  <tbody>\n",
       "  </tbody>\n",
       "</table>\n",
       "</div>"
      ],
      "text/plain": [
       "Empty DataFrame\n",
       "Columns: [SR. NO., TEAM, FUNDS REMAINING, OVERSEAS PLAYERS , TOTAL PLAYERS]\n",
       "Index: []"
      ]
     },
     "execution_count": 78,
     "metadata": {},
     "output_type": "execute_result"
    }
   ],
   "source": [
    "df = pd.DataFrame(columns=table_header)\n",
    "df.head()"
   ]
  },
  {
   "cell_type": "code",
   "execution_count": 92,
   "id": "4e250b15",
   "metadata": {},
   "outputs": [],
   "source": [
    "table_row = soup.find_all('tr')\n",
    "#print(table_row)"
   ]
  },
  {
   "cell_type": "code",
   "execution_count": 89,
   "id": "fbf4607a",
   "metadata": {},
   "outputs": [],
   "source": [
    "for i in table_row[1:]:\n",
    "    data = i.find_all('td')\n",
    "    #print(data)\n",
    "    row = [tr.text for tr in data]\n",
    "\n",
    "   "
   ]
  },
  {
   "cell_type": "code",
   "execution_count": 90,
   "id": "39789466",
   "metadata": {},
   "outputs": [
    {
     "name": "stdout",
     "output_type": "stream",
     "text": [
      "['A 22-year old opening batsman who hails from Pune, Ruturaj Gaikwad has been a consistent performer for his state team Maharashtra. He was the highest run-getter for Maharashtra in the league stage of the Syed Mushtaq Ali Trophy 2018-19. At the IPL 2019 Player Auction, the Chennai Super Kings secured his services at his base price of INR 20 lacs.', '']\n"
     ]
    }
   ],
   "source": [
    "print(row)"
   ]
  },
  {
   "cell_type": "code",
   "execution_count": null,
   "id": "9e7f9850",
   "metadata": {},
   "outputs": [],
   "source": []
  }
 ],
 "metadata": {
  "kernelspec": {
   "display_name": "base",
   "language": "python",
   "name": "python3"
  },
  "language_info": {
   "codemirror_mode": {
    "name": "ipython",
    "version": 3
   },
   "file_extension": ".py",
   "mimetype": "text/x-python",
   "name": "python",
   "nbconvert_exporter": "python",
   "pygments_lexer": "ipython3",
   "version": "3.12.4"
  }
 },
 "nbformat": 4,
 "nbformat_minor": 5
}
