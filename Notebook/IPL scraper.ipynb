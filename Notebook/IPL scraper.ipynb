{
 "cells": [
  {
   "cell_type": "markdown",
   "id": "281a58df-bb9a-4181-a5ea-64a19a093350",
   "metadata": {},
   "source": [
    "# IPL Scraper "
   ]
  },
  {
   "cell_type": "code",
   "execution_count": 104,
   "id": "54c5fd4c-7a66-4c47-8214-8dfc3d1733f8",
   "metadata": {},
   "outputs": [],
   "source": [
    "import requests\n",
    "from bs4 import BeautifulSoup\n",
    "import pandas as pd"
   ]
  },
  {
   "cell_type": "code",
   "execution_count": 105,
   "id": "92465389-1d31-4248-991f-d2b116b94ff1",
   "metadata": {},
   "outputs": [],
   "source": [
    "link = 'https://www.iplt20.com/auction/2022'\n",
    "res = requests.get(link)\n",
    "#print(res.text)"
   ]
  },
  {
   "cell_type": "code",
   "execution_count": 106,
   "id": "0f3fce4a",
   "metadata": {},
   "outputs": [],
   "source": [
    "soup = BeautifulSoup(res.text,\"lxml\")\n",
    "# print(soup)"
   ]
  },
  {
   "cell_type": "code",
   "execution_count": 107,
   "id": "900ab25b",
   "metadata": {},
   "outputs": [
    {
     "name": "stdout",
     "output_type": "stream",
     "text": [
      "[<th class=\"skip-filter\" style=\"width:25%;text-align: left;\">SR. NO.</th>, <th class=\"skip-filter\" style=\"width:25%;text-align: left;\">TEAM</th>, <th class=\"skip-filter\" style=\"width:25%;\">FUNDS REMAINING</th>, <th class=\"skip-filter\" style=\"width:25%;\">OVERSEAS PLAYERS </th>, <th class=\"skip-filter\" style=\"width:25%;\">TOTAL PLAYERS</th>]\n"
     ]
    }
   ],
   "source": [
    "table = soup.find(\"table\",class_ = 'ih-td-tab auction-tbl')\n",
    "#print(table)\n",
    "title = table.find_all('th')\n",
    "print(title)"
   ]
  },
  {
   "cell_type": "code",
   "execution_count": 108,
   "id": "27e76793",
   "metadata": {},
   "outputs": [],
   "source": [
    "table_header = []\n",
    "for i in title:\n",
    "    name = i.text\n",
    "    table_header.append(name)"
   ]
  },
  {
   "cell_type": "code",
   "execution_count": 109,
   "id": "cf155a85",
   "metadata": {},
   "outputs": [
    {
     "name": "stdout",
     "output_type": "stream",
     "text": [
      "['SR. NO.', 'TEAM', 'FUNDS REMAINING', 'OVERSEAS PLAYERS ', 'TOTAL PLAYERS']\n"
     ]
    }
   ],
   "source": [
    "print(table_header)"
   ]
  },
  {
   "cell_type": "code",
   "execution_count": 110,
   "id": "3eb2597e",
   "metadata": {},
   "outputs": [
    {
     "data": {
      "text/html": [
       "<div>\n",
       "<style scoped>\n",
       "    .dataframe tbody tr th:only-of-type {\n",
       "        vertical-align: middle;\n",
       "    }\n",
       "\n",
       "    .dataframe tbody tr th {\n",
       "        vertical-align: top;\n",
       "    }\n",
       "\n",
       "    .dataframe thead th {\n",
       "        text-align: right;\n",
       "    }\n",
       "</style>\n",
       "<table border=\"1\" class=\"dataframe\">\n",
       "  <thead>\n",
       "    <tr style=\"text-align: right;\">\n",
       "      <th></th>\n",
       "      <th>SR. NO.</th>\n",
       "      <th>TEAM</th>\n",
       "      <th>FUNDS REMAINING</th>\n",
       "      <th>OVERSEAS PLAYERS</th>\n",
       "      <th>TOTAL PLAYERS</th>\n",
       "    </tr>\n",
       "  </thead>\n",
       "  <tbody>\n",
       "  </tbody>\n",
       "</table>\n",
       "</div>"
      ],
      "text/plain": [
       "Empty DataFrame\n",
       "Columns: [SR. NO., TEAM, FUNDS REMAINING, OVERSEAS PLAYERS , TOTAL PLAYERS]\n",
       "Index: []"
      ]
     },
     "execution_count": 110,
     "metadata": {},
     "output_type": "execute_result"
    }
   ],
   "source": [
    "df = pd.DataFrame(columns=table_header)\n",
    "df.head()"
   ]
  },
  {
   "cell_type": "code",
   "execution_count": 111,
   "id": "4e250b15",
   "metadata": {},
   "outputs": [],
   "source": [
    "table_row = table.find_all('tr')\n",
    "#print(table_row)"
   ]
  },
  {
   "cell_type": "code",
   "execution_count": 112,
   "id": "fbf4607a",
   "metadata": {},
   "outputs": [],
   "source": [
    "for i in table_row[1:]:\n",
    "    data = i.find_all('td')\n",
    "    #print(data)\n",
    "    row = [tr.text.strip() for tr in data]\n",
    "    #print(row)\n",
    "    l = len(df)\n",
    "    df.loc[l] = row\n",
    "\n",
    "   "
   ]
  },
  {
   "cell_type": "code",
   "execution_count": 113,
   "id": "39789466",
   "metadata": {},
   "outputs": [
    {
     "data": {
      "text/html": [
       "<div>\n",
       "<style scoped>\n",
       "    .dataframe tbody tr th:only-of-type {\n",
       "        vertical-align: middle;\n",
       "    }\n",
       "\n",
       "    .dataframe tbody tr th {\n",
       "        vertical-align: top;\n",
       "    }\n",
       "\n",
       "    .dataframe thead th {\n",
       "        text-align: right;\n",
       "    }\n",
       "</style>\n",
       "<table border=\"1\" class=\"dataframe\">\n",
       "  <thead>\n",
       "    <tr style=\"text-align: right;\">\n",
       "      <th></th>\n",
       "      <th>SR. NO.</th>\n",
       "      <th>TEAM</th>\n",
       "      <th>FUNDS REMAINING</th>\n",
       "      <th>OVERSEAS PLAYERS</th>\n",
       "      <th>TOTAL PLAYERS</th>\n",
       "    </tr>\n",
       "  </thead>\n",
       "  <tbody>\n",
       "    <tr>\n",
       "      <th>0</th>\n",
       "      <td>1</td>\n",
       "      <td>Chennai Super Kings</td>\n",
       "      <td>₹2,95,00,000</td>\n",
       "      <td>8</td>\n",
       "      <td>25</td>\n",
       "    </tr>\n",
       "    <tr>\n",
       "      <th>1</th>\n",
       "      <td>2</td>\n",
       "      <td>Delhi Capitals</td>\n",
       "      <td>₹10,00,000</td>\n",
       "      <td>7</td>\n",
       "      <td>24</td>\n",
       "    </tr>\n",
       "    <tr>\n",
       "      <th>2</th>\n",
       "      <td>3</td>\n",
       "      <td>Gujarat Titans</td>\n",
       "      <td>₹15,00,000</td>\n",
       "      <td>8</td>\n",
       "      <td>23</td>\n",
       "    </tr>\n",
       "    <tr>\n",
       "      <th>3</th>\n",
       "      <td>4</td>\n",
       "      <td>Kolkata Knight Riders</td>\n",
       "      <td>₹45,00,000</td>\n",
       "      <td>8</td>\n",
       "      <td>25</td>\n",
       "    </tr>\n",
       "    <tr>\n",
       "      <th>4</th>\n",
       "      <td>5</td>\n",
       "      <td>Lucknow Super Giants</td>\n",
       "      <td>₹0</td>\n",
       "      <td>7</td>\n",
       "      <td>21</td>\n",
       "    </tr>\n",
       "    <tr>\n",
       "      <th>5</th>\n",
       "      <td>6</td>\n",
       "      <td>Mumbai Indians</td>\n",
       "      <td>₹10,00,000</td>\n",
       "      <td>8</td>\n",
       "      <td>25</td>\n",
       "    </tr>\n",
       "    <tr>\n",
       "      <th>6</th>\n",
       "      <td>7</td>\n",
       "      <td>Punjab Kings</td>\n",
       "      <td>₹3,45,00,000</td>\n",
       "      <td>7</td>\n",
       "      <td>25</td>\n",
       "    </tr>\n",
       "    <tr>\n",
       "      <th>7</th>\n",
       "      <td>8</td>\n",
       "      <td>Rajasthan Royals</td>\n",
       "      <td>₹95,00,000</td>\n",
       "      <td>8</td>\n",
       "      <td>24</td>\n",
       "    </tr>\n",
       "    <tr>\n",
       "      <th>8</th>\n",
       "      <td>9</td>\n",
       "      <td>Royal Challengers Bangalore</td>\n",
       "      <td>₹1,55,00,000</td>\n",
       "      <td>8</td>\n",
       "      <td>22</td>\n",
       "    </tr>\n",
       "    <tr>\n",
       "      <th>9</th>\n",
       "      <td>10</td>\n",
       "      <td>Sunrisers Hyderabad</td>\n",
       "      <td>₹10,00,000</td>\n",
       "      <td>8</td>\n",
       "      <td>23</td>\n",
       "    </tr>\n",
       "  </tbody>\n",
       "</table>\n",
       "</div>"
      ],
      "text/plain": [
       "  SR. NO.                         TEAM FUNDS REMAINING OVERSEAS PLAYERS   \\\n",
       "0       1          Chennai Super Kings    ₹2,95,00,000                 8   \n",
       "1       2               Delhi Capitals      ₹10,00,000                 7   \n",
       "2       3               Gujarat Titans      ₹15,00,000                 8   \n",
       "3       4        Kolkata Knight Riders      ₹45,00,000                 8   \n",
       "4       5         Lucknow Super Giants              ₹0                 7   \n",
       "5       6               Mumbai Indians      ₹10,00,000                 8   \n",
       "6       7                 Punjab Kings    ₹3,45,00,000                 7   \n",
       "7       8             Rajasthan Royals      ₹95,00,000                 8   \n",
       "8       9  Royal Challengers Bangalore    ₹1,55,00,000                 8   \n",
       "9      10          Sunrisers Hyderabad      ₹10,00,000                 8   \n",
       "\n",
       "  TOTAL PLAYERS  \n",
       "0            25  \n",
       "1            24  \n",
       "2            23  \n",
       "3            25  \n",
       "4            21  \n",
       "5            25  \n",
       "6            25  \n",
       "7            24  \n",
       "8            22  \n",
       "9            23  "
      ]
     },
     "execution_count": 113,
     "metadata": {},
     "output_type": "execute_result"
    }
   ],
   "source": [
    "df\n"
   ]
  },
  {
   "cell_type": "code",
   "execution_count": 114,
   "id": "9e7f9850",
   "metadata": {},
   "outputs": [],
   "source": [
    "df.to_csv(\"extracted_data.csv\")"
   ]
  },
  {
   "cell_type": "code",
   "execution_count": null,
   "id": "c22fbc3c",
   "metadata": {},
   "outputs": [],
   "source": []
  }
 ],
 "metadata": {
  "kernelspec": {
   "display_name": "base",
   "language": "python",
   "name": "python3"
  },
  "language_info": {
   "codemirror_mode": {
    "name": "ipython",
    "version": 3
   },
   "file_extension": ".py",
   "mimetype": "text/x-python",
   "name": "python",
   "nbconvert_exporter": "python",
   "pygments_lexer": "ipython3",
   "version": "3.12.4"
  }
 },
 "nbformat": 4,
 "nbformat_minor": 5
}
